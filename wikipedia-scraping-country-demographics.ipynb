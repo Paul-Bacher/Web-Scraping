{
 "cells": [
  {
   "cell_type": "markdown",
   "id": "e23463ce",
   "metadata": {
    "papermill": {
     "duration": 0.005067,
     "end_time": "2022-09-15T08:36:46.853503",
     "exception": false,
     "start_time": "2022-09-15T08:36:46.848436",
     "status": "completed"
    },
    "tags": []
   },
   "source": [
    "# 🌍 Easy Wikipedia Scraping - Demographics of United Nations Countries"
   ]
  },
  {
   "cell_type": "markdown",
   "id": "1287e406",
   "metadata": {
    "papermill": {
     "duration": 0.004014,
     "end_time": "2022-09-15T08:36:46.861930",
     "exception": false,
     "start_time": "2022-09-15T08:36:46.857916",
     "status": "completed"
    },
    "tags": []
   },
   "source": [
    "In this notebook, I will show you how to easily get information online using **scraping**. For this, our objective will be to collect **demographic information** concerning the 193 member countries of the United Nations. Scraping often requires data cleaning as a second step. We will also tackle this task. It is possible to reuse these techniques to create your own dataset.\n",
    "\n",
    "Here is the Wikipedia page that we are going to scrap: https://en.wikipedia.org/wiki/List_of_countries_and_dependencies_by_population\n",
    "\n",
    "**Let's start!** 😉"
   ]
  },
  {
   "cell_type": "markdown",
   "id": "dffac0d0",
   "metadata": {
    "papermill": {
     "duration": 0.003959,
     "end_time": "2022-09-15T08:36:46.870299",
     "exception": false,
     "start_time": "2022-09-15T08:36:46.866340",
     "status": "completed"
    },
    "tags": []
   },
   "source": [
    "# Imports"
   ]
  },
  {
   "cell_type": "markdown",
   "id": "61a09e6c",
   "metadata": {
    "papermill": {
     "duration": 0.004026,
     "end_time": "2022-09-15T08:36:46.878915",
     "exception": false,
     "start_time": "2022-09-15T08:36:46.874889",
     "status": "completed"
    },
    "tags": []
   },
   "source": [
    "We need these imports:\n",
    "- **requests** for http requests\n",
    "- **BeautifulSoup** for the scraping\n",
    "- **pandas** to gather the data in a dataframe\n",
    "- **matplotlib** for data analysis"
   ]
  },
  {
   "cell_type": "code",
   "execution_count": 1,
   "id": "d245affd",
   "metadata": {
    "execution": {
     "iopub.execute_input": "2022-09-15T08:36:46.891184Z",
     "iopub.status.busy": "2022-09-15T08:36:46.890078Z",
     "iopub.status.idle": "2022-09-15T08:36:47.103432Z",
     "shell.execute_reply": "2022-09-15T08:36:47.102335Z"
    },
    "papermill": {
     "duration": 0.22305,
     "end_time": "2022-09-15T08:36:47.106302",
     "exception": false,
     "start_time": "2022-09-15T08:36:46.883252",
     "status": "completed"
    },
    "tags": []
   },
   "outputs": [],
   "source": [
    "import requests\n",
    "from bs4 import BeautifulSoup\n",
    "import pandas as pd\n",
    "import matplotlib.pyplot as plt"
   ]
  },
  {
   "cell_type": "markdown",
   "id": "673bf303",
   "metadata": {
    "papermill": {
     "duration": 0.003841,
     "end_time": "2022-09-15T08:36:47.115243",
     "exception": false,
     "start_time": "2022-09-15T08:36:47.111402",
     "status": "completed"
    },
    "tags": []
   },
   "source": [
    "# Scraping"
   ]
  },
  {
   "cell_type": "markdown",
   "id": "9ec15a81",
   "metadata": {
    "papermill": {
     "duration": 0.00382,
     "end_time": "2022-09-15T08:36:47.123675",
     "exception": false,
     "start_time": "2022-09-15T08:36:47.119855",
     "status": "completed"
    },
    "tags": []
   },
   "source": [
    "For this step I really recommend inspecting the source code of the website to spot the html tags surrounding the data we want. It will be easier for you to follow. To summarize, we will be interested in the following tags:\n",
    "- **table**: the whole central table with the countries\n",
    "- **tr**: the rows in the table including the header\n",
    "- **th**: the first cells of the rows (rank position)\n",
    "- **td**: the cells in general (several per row)\n",
    "- **a**: a hyperlink\n",
    "\n",
    "To proceed, we will scrape the data by storing it in lists and then gathering them in a dataframe. We do not deal with the format for the moment. What matters is the information. We will clean the data later.\n"
   ]
  },
  {
   "cell_type": "code",
   "execution_count": 2,
   "id": "18455ede",
   "metadata": {
    "execution": {
     "iopub.execute_input": "2022-09-15T08:36:47.133508Z",
     "iopub.status.busy": "2022-09-15T08:36:47.132757Z",
     "iopub.status.idle": "2022-09-15T08:36:47.582412Z",
     "shell.execute_reply": "2022-09-15T08:36:47.580993Z"
    },
    "papermill": {
     "duration": 0.457049,
     "end_time": "2022-09-15T08:36:47.584640",
     "exception": false,
     "start_time": "2022-09-15T08:36:47.127591",
     "status": "completed"
    },
    "tags": []
   },
   "outputs": [],
   "source": [
    "# Create the empty lists for the information we want\n",
    "ranks, countries, links, continents, populations, percentages, dates = [[] for i in range(7)]\n",
    "\n",
    "# Retrieve the response to the request from the url\n",
    "url = 'https://en.wikipedia.org/wiki/List_of_countries_and_dependencies_by_population'\n",
    "response = requests.get(url)\n",
    "\n",
    "# Response 200 = everything went well\n",
    "if response.ok:\n",
    "    \n",
    "    # Extract the table and the rows, except the two first\n",
    "    soup = BeautifulSoup(response.text, 'lxml')\n",
    "    table_rows = soup.find('table').findAll('tr')[2:]\n",
    "    \n",
    "    # Loop over each row and append the information in our lists\n",
    "    for row in table_rows:\n",
    "        \n",
    "        # Rank\n",
    "        rank = row.find('th').text\n",
    "        ranks.append(rank)\n",
    "        \n",
    "        # Cells of each row (after Rank)\n",
    "        cells = row.findAll('td')\n",
    "        \n",
    "        # Countries + Links\n",
    "        country = cells[0].find('a').text\n",
    "        countries.append(country)\n",
    "        link = 'https://en.wikipedia.org' + cells[0].find('a')['href']\n",
    "        links.append(link)\n",
    "        \n",
    "        # Continent\n",
    "        continent = cells[1].text\n",
    "        continents.append(continent)\n",
    "        \n",
    "        # Population\n",
    "        population = cells[2].text\n",
    "        populations.append(population)\n",
    "        \n",
    "        # Percentage of the world\n",
    "        percentage = cells[3].text\n",
    "        percentages.append(percentage)\n",
    "        \n",
    "        # Dates\n",
    "        date = cells[4].text\n",
    "        dates.append(date)"
   ]
  },
  {
   "cell_type": "markdown",
   "id": "9bf155f6",
   "metadata": {
    "papermill": {
     "duration": 0.003684,
     "end_time": "2022-09-15T08:36:47.592528",
     "exception": false,
     "start_time": "2022-09-15T08:36:47.588844",
     "status": "completed"
    },
    "tags": []
   },
   "source": [
    "Now the lists are full of collected information, we can zip them and create the associated raw dataframe *data0*. We rename the columns in our own way."
   ]
  },
  {
   "cell_type": "code",
   "execution_count": 3,
   "id": "543c12b0",
   "metadata": {
    "execution": {
     "iopub.execute_input": "2022-09-15T08:36:47.601945Z",
     "iopub.status.busy": "2022-09-15T08:36:47.601414Z",
     "iopub.status.idle": "2022-09-15T08:36:47.632787Z",
     "shell.execute_reply": "2022-09-15T08:36:47.631924Z"
    },
    "papermill": {
     "duration": 0.038674,
     "end_time": "2022-09-15T08:36:47.635034",
     "exception": false,
     "start_time": "2022-09-15T08:36:47.596360",
     "status": "completed"
    },
    "tags": []
   },
   "outputs": [
    {
     "data": {
      "text/html": [
       "<div>\n",
       "<style scoped>\n",
       "    .dataframe tbody tr th:only-of-type {\n",
       "        vertical-align: middle;\n",
       "    }\n",
       "\n",
       "    .dataframe tbody tr th {\n",
       "        vertical-align: top;\n",
       "    }\n",
       "\n",
       "    .dataframe thead th {\n",
       "        text-align: right;\n",
       "    }\n",
       "</style>\n",
       "<table border=\"1\" class=\"dataframe\">\n",
       "  <thead>\n",
       "    <tr style=\"text-align: right;\">\n",
       "      <th></th>\n",
       "      <th>Rank</th>\n",
       "      <th>Country</th>\n",
       "      <th>Continent</th>\n",
       "      <th>Population</th>\n",
       "      <th>Percentage</th>\n",
       "      <th>Date</th>\n",
       "      <th>Links</th>\n",
       "    </tr>\n",
       "  </thead>\n",
       "  <tbody>\n",
       "    <tr>\n",
       "      <th>0</th>\n",
       "      <td>1\\n</td>\n",
       "      <td>China</td>\n",
       "      <td>Asia</td>\n",
       "      <td>1,412,600,000</td>\n",
       "      <td>17.7%\\n</td>\n",
       "      <td>31 Dec 2021</td>\n",
       "      <td>https://en.wikipedia.org/wiki/Demographics_of_...</td>\n",
       "    </tr>\n",
       "    <tr>\n",
       "      <th>1</th>\n",
       "      <td>2\\n</td>\n",
       "      <td>India</td>\n",
       "      <td>Asia</td>\n",
       "      <td>1,375,586,000</td>\n",
       "      <td>17.2%\\n</td>\n",
       "      <td>1 Mar 2022\\n</td>\n",
       "      <td>https://en.wikipedia.org/wiki/Demographics_of_...</td>\n",
       "    </tr>\n",
       "    <tr>\n",
       "      <th>2</th>\n",
       "      <td>3\\n</td>\n",
       "      <td>United States</td>\n",
       "      <td>North America</td>\n",
       "      <td>333,100,150</td>\n",
       "      <td>4.18%</td>\n",
       "      <td>15 Sep 2022\\n</td>\n",
       "      <td>https://en.wikipedia.org/wiki/Demographics_of_...</td>\n",
       "    </tr>\n",
       "    <tr>\n",
       "      <th>3</th>\n",
       "      <td>4\\n</td>\n",
       "      <td>Indonesia</td>\n",
       "      <td>Asia[b]</td>\n",
       "      <td>275,773,800</td>\n",
       "      <td>3.46%\\n</td>\n",
       "      <td>1 Jul 2022</td>\n",
       "      <td>https://en.wikipedia.org/wiki/Demographics_of_...</td>\n",
       "    </tr>\n",
       "    <tr>\n",
       "      <th>4</th>\n",
       "      <td>5\\n</td>\n",
       "      <td>Pakistan</td>\n",
       "      <td>Asia</td>\n",
       "      <td>229,489,000</td>\n",
       "      <td>2.88%\\n</td>\n",
       "      <td>1 Jul 2022</td>\n",
       "      <td>https://en.wikipedia.org/wiki/Demographics_of_...</td>\n",
       "    </tr>\n",
       "    <tr>\n",
       "      <th>...</th>\n",
       "      <td>...</td>\n",
       "      <td>...</td>\n",
       "      <td>...</td>\n",
       "      <td>...</td>\n",
       "      <td>...</td>\n",
       "      <td>...</td>\n",
       "      <td>...</td>\n",
       "    </tr>\n",
       "    <tr>\n",
       "      <th>236</th>\n",
       "      <td>–\\n</td>\n",
       "      <td>Niue</td>\n",
       "      <td>Oceania</td>\n",
       "      <td>1,549</td>\n",
       "      <td>0%\\n</td>\n",
       "      <td>1 Jul 2021</td>\n",
       "      <td>https://en.wikipedia.org/wiki/Demographics_of_...</td>\n",
       "    </tr>\n",
       "    <tr>\n",
       "      <th>237</th>\n",
       "      <td>–\\n</td>\n",
       "      <td>Tokelau</td>\n",
       "      <td>Oceania</td>\n",
       "      <td>1,501</td>\n",
       "      <td>0%\\n</td>\n",
       "      <td>1 Jul 2021</td>\n",
       "      <td>https://en.wikipedia.org/wiki/Demographics_of_...</td>\n",
       "    </tr>\n",
       "    <tr>\n",
       "      <th>238</th>\n",
       "      <td>195\\n</td>\n",
       "      <td>Vatican City</td>\n",
       "      <td>Europe</td>\n",
       "      <td>825</td>\n",
       "      <td>0%\\n</td>\n",
       "      <td>1 Feb 2019</td>\n",
       "      <td>https://en.wikipedia.org/wiki/Demographics_of_...</td>\n",
       "    </tr>\n",
       "    <tr>\n",
       "      <th>239</th>\n",
       "      <td>–\\n</td>\n",
       "      <td>Cocos (Keeling) Islands</td>\n",
       "      <td>Oceania</td>\n",
       "      <td>573</td>\n",
       "      <td>0%\\n</td>\n",
       "      <td>30 Jun 2020</td>\n",
       "      <td>https://en.wikipedia.org/wiki/Demographics_of_...</td>\n",
       "    </tr>\n",
       "    <tr>\n",
       "      <th>240</th>\n",
       "      <td>–\\n</td>\n",
       "      <td>Pitcairn Islands</td>\n",
       "      <td>Oceania</td>\n",
       "      <td>40</td>\n",
       "      <td>0%\\n</td>\n",
       "      <td>1 Jan 2021</td>\n",
       "      <td>https://en.wikipedia.org/wiki/Demographics_of_...</td>\n",
       "    </tr>\n",
       "  </tbody>\n",
       "</table>\n",
       "<p>241 rows × 7 columns</p>\n",
       "</div>"
      ],
      "text/plain": [
       "      Rank                  Country      Continent     Population Percentage  \\\n",
       "0      1\\n                    China           Asia  1,412,600,000    17.7%\\n   \n",
       "1      2\\n                    India           Asia  1,375,586,000    17.2%\\n   \n",
       "2      3\\n            United States  North America    333,100,150      4.18%   \n",
       "3      4\\n                Indonesia        Asia[b]    275,773,800    3.46%\\n   \n",
       "4      5\\n                 Pakistan           Asia    229,489,000    2.88%\\n   \n",
       "..     ...                      ...            ...            ...        ...   \n",
       "236    –\\n                     Niue        Oceania          1,549       0%\\n   \n",
       "237    –\\n                  Tokelau        Oceania          1,501       0%\\n   \n",
       "238  195\\n             Vatican City         Europe            825       0%\\n   \n",
       "239    –\\n  Cocos (Keeling) Islands        Oceania            573       0%\\n   \n",
       "240    –\\n         Pitcairn Islands        Oceania             40       0%\\n   \n",
       "\n",
       "              Date                                              Links  \n",
       "0      31 Dec 2021  https://en.wikipedia.org/wiki/Demographics_of_...  \n",
       "1     1 Mar 2022\\n  https://en.wikipedia.org/wiki/Demographics_of_...  \n",
       "2    15 Sep 2022\\n  https://en.wikipedia.org/wiki/Demographics_of_...  \n",
       "3       1 Jul 2022  https://en.wikipedia.org/wiki/Demographics_of_...  \n",
       "4       1 Jul 2022  https://en.wikipedia.org/wiki/Demographics_of_...  \n",
       "..             ...                                                ...  \n",
       "236     1 Jul 2021  https://en.wikipedia.org/wiki/Demographics_of_...  \n",
       "237     1 Jul 2021  https://en.wikipedia.org/wiki/Demographics_of_...  \n",
       "238     1 Feb 2019  https://en.wikipedia.org/wiki/Demographics_of_...  \n",
       "239    30 Jun 2020  https://en.wikipedia.org/wiki/Demographics_of_...  \n",
       "240     1 Jan 2021  https://en.wikipedia.org/wiki/Demographics_of_...  \n",
       "\n",
       "[241 rows x 7 columns]"
      ]
     },
     "execution_count": 3,
     "metadata": {},
     "output_type": "execute_result"
    }
   ],
   "source": [
    "data0 = pd.DataFrame(list(zip(ranks, countries, continents, populations, percentages, dates, links)),\n",
    "                    columns=['Rank', 'Country', 'Continent', 'Population', 'Percentage', 'Date', 'Links'])\n",
    "data0"
   ]
  },
  {
   "cell_type": "markdown",
   "id": "2abef685",
   "metadata": {
    "papermill": {
     "duration": 0.004224,
     "end_time": "2022-09-15T08:36:47.643867",
     "exception": false,
     "start_time": "2022-09-15T08:36:47.639643",
     "status": "completed"
    },
    "tags": []
   },
   "source": [
    "Voilà, the information are structures. But it seems that the format is not clean. This is due to unnecessary line breaks *'\\n'* or reference indices *'\\[i\\]'*. It is not a big task to correct these problems. We will do it in the next part."
   ]
  },
  {
   "cell_type": "markdown",
   "id": "79482d35",
   "metadata": {
    "papermill": {
     "duration": 0.004163,
     "end_time": "2022-09-15T08:36:47.652616",
     "exception": false,
     "start_time": "2022-09-15T08:36:47.648453",
     "status": "completed"
    },
    "tags": []
   },
   "source": [
    "# Cleaning"
   ]
  },
  {
   "cell_type": "markdown",
   "id": "2a5eb20d",
   "metadata": {
    "papermill": {
     "duration": 0.004187,
     "end_time": "2022-09-15T08:36:47.661166",
     "exception": false,
     "start_time": "2022-09-15T08:36:47.656979",
     "status": "completed"
    },
    "tags": []
   },
   "source": [
    "As said previously, we will correct the format and remove the elements that could interfere with the use of the data. For example, we don't want the '%' symbol or the commas in the population column. We should remove the unranked countries as well since they are not part of the official UN list (193 members + 2 observe states). It is of course an arbitrary choice and you can choose to keep them. Finally, we convert the data types to *integer*, *float* or *datetime* where it is consistant.\n",
    "\n",
    "**Let's create the cleaning function.**"
   ]
  },
  {
   "cell_type": "code",
   "execution_count": 4,
   "id": "cecc3bb0",
   "metadata": {
    "execution": {
     "iopub.execute_input": "2022-09-15T08:36:47.671694Z",
     "iopub.status.busy": "2022-09-15T08:36:47.671357Z",
     "iopub.status.idle": "2022-09-15T08:36:47.678732Z",
     "shell.execute_reply": "2022-09-15T08:36:47.677468Z"
    },
    "papermill": {
     "duration": 0.015516,
     "end_time": "2022-09-15T08:36:47.681001",
     "exception": false,
     "start_time": "2022-09-15T08:36:47.665485",
     "status": "completed"
    },
    "tags": []
   },
   "outputs": [],
   "source": [
    "def cleaning(df):\n",
    "    df = df.copy()\n",
    "    \n",
    "    # Remove '\\n' and '[i]' and '%' characters everywhere\n",
    "    df = df.replace(r'(\\n)|(\\[\\w\\])|(%)', '', regex=True)\n",
    "    \n",
    "    # Remove commas in the Population column\n",
    "    df['Population'] = df['Population'].replace(r',', '', regex=True)\n",
    "    \n",
    "    # Drop unranked\n",
    "    df = df[df['Rank'] != '–']\n",
    "    \n",
    "    # Change dtypes to int\n",
    "    df = df.astype({'Population': 'int', 'Rank': 'int', 'Percentage': 'float'})\n",
    "    \n",
    "    # Datetime format\n",
    "    df['Date'] = pd.to_datetime(df['Date'])\n",
    "    \n",
    "    return df"
   ]
  },
  {
   "cell_type": "code",
   "execution_count": 5,
   "id": "4cfd09ee",
   "metadata": {
    "execution": {
     "iopub.execute_input": "2022-09-15T08:36:47.692840Z",
     "iopub.status.busy": "2022-09-15T08:36:47.691756Z",
     "iopub.status.idle": "2022-09-15T08:36:47.737410Z",
     "shell.execute_reply": "2022-09-15T08:36:47.735626Z"
    },
    "papermill": {
     "duration": 0.054257,
     "end_time": "2022-09-15T08:36:47.739983",
     "exception": false,
     "start_time": "2022-09-15T08:36:47.685726",
     "status": "completed"
    },
    "tags": []
   },
   "outputs": [
    {
     "data": {
      "text/html": [
       "<div>\n",
       "<style scoped>\n",
       "    .dataframe tbody tr th:only-of-type {\n",
       "        vertical-align: middle;\n",
       "    }\n",
       "\n",
       "    .dataframe tbody tr th {\n",
       "        vertical-align: top;\n",
       "    }\n",
       "\n",
       "    .dataframe thead th {\n",
       "        text-align: right;\n",
       "    }\n",
       "</style>\n",
       "<table border=\"1\" class=\"dataframe\">\n",
       "  <thead>\n",
       "    <tr style=\"text-align: right;\">\n",
       "      <th></th>\n",
       "      <th>Rank</th>\n",
       "      <th>Country</th>\n",
       "      <th>Continent</th>\n",
       "      <th>Population</th>\n",
       "      <th>Percentage</th>\n",
       "      <th>Date</th>\n",
       "      <th>Links</th>\n",
       "    </tr>\n",
       "  </thead>\n",
       "  <tbody>\n",
       "    <tr>\n",
       "      <th>0</th>\n",
       "      <td>1</td>\n",
       "      <td>China</td>\n",
       "      <td>Asia</td>\n",
       "      <td>1412600000</td>\n",
       "      <td>17.700000</td>\n",
       "      <td>2021-12-31</td>\n",
       "      <td>https://en.wikipedia.org/wiki/Demographics_of_...</td>\n",
       "    </tr>\n",
       "    <tr>\n",
       "      <th>1</th>\n",
       "      <td>2</td>\n",
       "      <td>India</td>\n",
       "      <td>Asia</td>\n",
       "      <td>1375586000</td>\n",
       "      <td>17.200000</td>\n",
       "      <td>2022-03-01</td>\n",
       "      <td>https://en.wikipedia.org/wiki/Demographics_of_...</td>\n",
       "    </tr>\n",
       "    <tr>\n",
       "      <th>2</th>\n",
       "      <td>3</td>\n",
       "      <td>United States</td>\n",
       "      <td>North America</td>\n",
       "      <td>333100150</td>\n",
       "      <td>4.180000</td>\n",
       "      <td>2022-09-15</td>\n",
       "      <td>https://en.wikipedia.org/wiki/Demographics_of_...</td>\n",
       "    </tr>\n",
       "    <tr>\n",
       "      <th>3</th>\n",
       "      <td>4</td>\n",
       "      <td>Indonesia</td>\n",
       "      <td>Asia</td>\n",
       "      <td>275773800</td>\n",
       "      <td>3.460000</td>\n",
       "      <td>2022-07-01</td>\n",
       "      <td>https://en.wikipedia.org/wiki/Demographics_of_...</td>\n",
       "    </tr>\n",
       "    <tr>\n",
       "      <th>4</th>\n",
       "      <td>5</td>\n",
       "      <td>Pakistan</td>\n",
       "      <td>Asia</td>\n",
       "      <td>229489000</td>\n",
       "      <td>2.880000</td>\n",
       "      <td>2022-07-01</td>\n",
       "      <td>https://en.wikipedia.org/wiki/Demographics_of_...</td>\n",
       "    </tr>\n",
       "    <tr>\n",
       "      <th>...</th>\n",
       "      <td>...</td>\n",
       "      <td>...</td>\n",
       "      <td>...</td>\n",
       "      <td>...</td>\n",
       "      <td>...</td>\n",
       "      <td>...</td>\n",
       "      <td>...</td>\n",
       "    </tr>\n",
       "    <tr>\n",
       "      <th>219</th>\n",
       "      <td>191</td>\n",
       "      <td>San Marino</td>\n",
       "      <td>Europe</td>\n",
       "      <td>33705</td>\n",
       "      <td>0.000422</td>\n",
       "      <td>2022-03-30</td>\n",
       "      <td>https://en.wikipedia.org/wiki/Demographics_of_...</td>\n",
       "    </tr>\n",
       "    <tr>\n",
       "      <th>223</th>\n",
       "      <td>192</td>\n",
       "      <td>Palau</td>\n",
       "      <td>Oceania</td>\n",
       "      <td>17957</td>\n",
       "      <td>0.000225</td>\n",
       "      <td>2021-07-01</td>\n",
       "      <td>https://en.wikipedia.org/wiki/Demographics_of_...</td>\n",
       "    </tr>\n",
       "    <tr>\n",
       "      <th>226</th>\n",
       "      <td>193</td>\n",
       "      <td>Nauru</td>\n",
       "      <td>Oceania</td>\n",
       "      <td>11832</td>\n",
       "      <td>0.000148</td>\n",
       "      <td>2021-07-01</td>\n",
       "      <td>https://en.wikipedia.org/wiki/Demographics_of_...</td>\n",
       "    </tr>\n",
       "    <tr>\n",
       "      <th>228</th>\n",
       "      <td>194</td>\n",
       "      <td>Tuvalu</td>\n",
       "      <td>Oceania</td>\n",
       "      <td>10679</td>\n",
       "      <td>0.000134</td>\n",
       "      <td>2021-07-01</td>\n",
       "      <td>https://en.wikipedia.org/wiki/Demographics_of_...</td>\n",
       "    </tr>\n",
       "    <tr>\n",
       "      <th>238</th>\n",
       "      <td>195</td>\n",
       "      <td>Vatican City</td>\n",
       "      <td>Europe</td>\n",
       "      <td>825</td>\n",
       "      <td>0.000000</td>\n",
       "      <td>2019-02-01</td>\n",
       "      <td>https://en.wikipedia.org/wiki/Demographics_of_...</td>\n",
       "    </tr>\n",
       "  </tbody>\n",
       "</table>\n",
       "<p>195 rows × 7 columns</p>\n",
       "</div>"
      ],
      "text/plain": [
       "     Rank        Country      Continent  Population  Percentage       Date  \\\n",
       "0       1          China           Asia  1412600000   17.700000 2021-12-31   \n",
       "1       2          India           Asia  1375586000   17.200000 2022-03-01   \n",
       "2       3  United States  North America   333100150    4.180000 2022-09-15   \n",
       "3       4      Indonesia           Asia   275773800    3.460000 2022-07-01   \n",
       "4       5       Pakistan           Asia   229489000    2.880000 2022-07-01   \n",
       "..    ...            ...            ...         ...         ...        ...   \n",
       "219   191     San Marino         Europe       33705    0.000422 2022-03-30   \n",
       "223   192          Palau        Oceania       17957    0.000225 2021-07-01   \n",
       "226   193          Nauru        Oceania       11832    0.000148 2021-07-01   \n",
       "228   194         Tuvalu        Oceania       10679    0.000134 2021-07-01   \n",
       "238   195   Vatican City         Europe         825    0.000000 2019-02-01   \n",
       "\n",
       "                                                 Links  \n",
       "0    https://en.wikipedia.org/wiki/Demographics_of_...  \n",
       "1    https://en.wikipedia.org/wiki/Demographics_of_...  \n",
       "2    https://en.wikipedia.org/wiki/Demographics_of_...  \n",
       "3    https://en.wikipedia.org/wiki/Demographics_of_...  \n",
       "4    https://en.wikipedia.org/wiki/Demographics_of_...  \n",
       "..                                                 ...  \n",
       "219  https://en.wikipedia.org/wiki/Demographics_of_...  \n",
       "223  https://en.wikipedia.org/wiki/Demographics_of_...  \n",
       "226  https://en.wikipedia.org/wiki/Demographics_of_...  \n",
       "228  https://en.wikipedia.org/wiki/Demographics_of_...  \n",
       "238  https://en.wikipedia.org/wiki/Demographics_of_...  \n",
       "\n",
       "[195 rows x 7 columns]"
      ]
     },
     "execution_count": 5,
     "metadata": {},
     "output_type": "execute_result"
    }
   ],
   "source": [
    "data = cleaning(data0)\n",
    "data"
   ]
  },
  {
   "cell_type": "markdown",
   "id": "a4ec0b9c",
   "metadata": {
    "papermill": {
     "duration": 0.004584,
     "end_time": "2022-09-15T08:36:47.749513",
     "exception": false,
     "start_time": "2022-09-15T08:36:47.744929",
     "status": "completed"
    },
    "tags": []
   },
   "source": [
    "**Perfect!** We created a clean dataset of the United Nations countries by ourselves! We are now able to use them to create some nice charts. Let's do it for fun. 😄"
   ]
  },
  {
   "cell_type": "markdown",
   "id": "ba99a041",
   "metadata": {
    "papermill": {
     "duration": 0.005305,
     "end_time": "2022-09-15T08:36:47.760262",
     "exception": false,
     "start_time": "2022-09-15T08:36:47.754957",
     "status": "completed"
    },
    "tags": []
   },
   "source": [
    "# Data Analysis"
   ]
  },
  {
   "cell_type": "code",
   "execution_count": 6,
   "id": "ef117586",
   "metadata": {
    "execution": {
     "iopub.execute_input": "2022-09-15T08:36:47.771938Z",
     "iopub.status.busy": "2022-09-15T08:36:47.771590Z",
     "iopub.status.idle": "2022-09-15T08:36:48.445715Z",
     "shell.execute_reply": "2022-09-15T08:36:48.444890Z"
    },
    "papermill": {
     "duration": 0.682131,
     "end_time": "2022-09-15T08:36:48.447616",
     "exception": false,
     "start_time": "2022-09-15T08:36:47.765485",
     "status": "completed"
    },
    "tags": []
   },
   "outputs": [
    {
     "data": {
      "image/png": "[encoded data removed]",
      "text/plain": [
       "<Figure size 1584x432 with 1 Axes>"
      ]
     },
     "metadata": {
      "needs_background": "light"
     },
     "output_type": "display_data"
    }
   ],
   "source": [
    "colors = {'Africa': 'goldenrod', 'Asia': 'indianred', 'Europe': 'royalblue',\n",
    "          'North America': 'cornflowerblue', 'Oceania': 'turquoise', 'South America': 'seagreen'}\n",
    "labels = list(colors.keys())\n",
    "handles = [plt.Rectangle((0,0),1,1, color=colors[label]) for label in labels]\n",
    "\n",
    "plt.figure(figsize=(22, 6))\n",
    "\n",
    "n_display = 50\n",
    "c = data['Continent'].map(colors)\n",
    "plt.bar(data['Country'][:n_display], data['Population'][:n_display], color=c)\n",
    "plt.title(f\"Comparison of the population of the {n_display} largest countries in the world\")\n",
    "plt.xlabel(\"Countries\")\n",
    "plt.ylabel(\"Population\")\n",
    "plt.xticks(rotation='vertical')\n",
    "plt.legend(handles, labels)\n",
    "\n",
    "plt.show()"
   ]
  },
  {
   "cell_type": "markdown",
   "id": "0e605612",
   "metadata": {
    "papermill": {
     "duration": 0.005135,
     "end_time": "2022-09-15T08:36:48.458329",
     "exception": false,
     "start_time": "2022-09-15T08:36:48.453194",
     "status": "completed"
    },
    "tags": []
   },
   "source": [
    "And the outliers are... **China and India!**\n",
    "\n",
    "**Note:** This representation should be taken with caution since we have in our dataset population values recorded between 2017 and 2022 (when I write). However if we look at the largest countries, the values are around 2021 and 2022 which are close periods of time."
   ]
  },
  {
   "cell_type": "code",
   "execution_count": 7,
   "id": "f9553fdf",
   "metadata": {
    "execution": {
     "iopub.execute_input": "2022-09-15T08:36:48.471282Z",
     "iopub.status.busy": "2022-09-15T08:36:48.469504Z",
     "iopub.status.idle": "2022-09-15T08:36:48.477998Z",
     "shell.execute_reply": "2022-09-15T08:36:48.476522Z"
    },
    "papermill": {
     "duration": 0.016985,
     "end_time": "2022-09-15T08:36:48.480361",
     "exception": false,
     "start_time": "2022-09-15T08:36:48.463376",
     "status": "completed"
    },
    "tags": []
   },
   "outputs": [
    {
     "name": "stdout",
     "output_type": "stream",
     "text": [
      "Oldest date: 2017-12-15 00:00:00\n",
      "Most recent date: 2022-09-15 00:00:00\n"
     ]
    }
   ],
   "source": [
    "print(\"Oldest date:\", data['Date'].min())\n",
    "print(\"Most recent date:\", data['Date'].max())"
   ]
  },
  {
   "cell_type": "markdown",
   "id": "51592cd6",
   "metadata": {
    "papermill": {
     "duration": 0.005472,
     "end_time": "2022-09-15T08:36:48.491882",
     "exception": false,
     "start_time": "2022-09-15T08:36:48.486410",
     "status": "completed"
    },
    "tags": []
   },
   "source": [
    "To finish, we can see the distribution of the population between the different continents."
   ]
  },
  {
   "cell_type": "code",
   "execution_count": 8,
   "id": "ae2f739a",
   "metadata": {
    "execution": {
     "iopub.execute_input": "2022-09-15T08:36:48.504933Z",
     "iopub.status.busy": "2022-09-15T08:36:48.504603Z",
     "iopub.status.idle": "2022-09-15T08:36:48.637715Z",
     "shell.execute_reply": "2022-09-15T08:36:48.636842Z"
    },
    "papermill": {
     "duration": 0.141915,
     "end_time": "2022-09-15T08:36:48.639566",
     "exception": false,
     "start_time": "2022-09-15T08:36:48.497651",
     "status": "completed"
    },
    "tags": []
   },
   "outputs": [
    {
     "data": {
      "image/png": "[encoded data removed]",
      "text/plain": [
       "<Figure size 576x576 with 1 Axes>"
      ]
     },
     "metadata": {},
     "output_type": "display_data"
    }
   ],
   "source": [
    "plt.figure(figsize=(8, 8))\n",
    "\n",
    "labels = data['Continent'].value_counts().index\n",
    "plt.pie(data['Continent'].value_counts(), labels=labels, colors=colors.values(), autopct='%1.0f%%', textprops={'fontsize': 20})\n",
    "plt.title(\"Distribution of the population between the continents\")\n",
    "\n",
    "plt.show()"
   ]
  },
  {
   "cell_type": "markdown",
   "id": "aa022689",
   "metadata": {
    "papermill": {
     "duration": 0.008227,
     "end_time": "2022-09-15T08:36:48.656245",
     "exception": false,
     "start_time": "2022-09-15T08:36:48.648018",
     "status": "completed"
    },
    "tags": []
   },
   "source": [
    "Thank you for reading until the end. I hope you liked this little exercise. If you have any suggestion, please leave me a comment!\n",
    "\n",
    "**Have a nice day.** 😊"
   ]
  }
 ],
 "metadata": {
  "kernelspec": {
   "display_name": "Python 3",
   "language": "python",
   "name": "python3"
  },
  "language_info": {
   "codemirror_mode": {
    "name": "ipython",
    "version": 3
   },
   "file_extension": ".py",
   "mimetype": "text/x-python",
   "name": "python",
   "nbconvert_exporter": "python",
   "pygments_lexer": "ipython3",
   "version": "3.7.12"
  },
  "papermill": {
   "default_parameters": {},
   "duration": 10.589276,
   "end_time": "2022-09-15T08:36:49.286650",
   "environment_variables": {},
   "exception": null,
   "input_path": "__notebook__.ipynb",
   "output_path": "__notebook__.ipynb",
   "parameters": {},
   "start_time": "2022-09-15T08:36:38.697374",
   "version": "2.3.4"
  }
 },
 "nbformat": 4,
 "nbformat_minor": 5
}
